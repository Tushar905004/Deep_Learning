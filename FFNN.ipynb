{
 "cells": [
  {
   "cell_type": "code",
   "execution_count": 1,
   "id": "069bab68-a9fd-416f-99e0-78e6ec8cc04d",
   "metadata": {},
   "outputs": [],
   "source": [
    "import numpy as np\n",
    "import matplotlib.pyplot as plt\n",
    "%matplotlib inline"
   ]
  },
  {
   "cell_type": "code",
   "execution_count": 2,
   "id": "388c69a5-610d-4ec2-971d-5afd07d6727d",
   "metadata": {},
   "outputs": [],
   "source": [
    "from sklearn.datasets import load_iris\n",
    "datasets = load_iris()"
   ]
  },
  {
   "cell_type": "code",
   "execution_count": 3,
   "id": "47881bd3-d411-449a-81a3-ba776f3ebb9b",
   "metadata": {},
   "outputs": [
    {
     "data": {
      "text/plain": [
       "['sepal length (cm)',\n",
       " 'sepal width (cm)',\n",
       " 'petal length (cm)',\n",
       " 'petal width (cm)']"
      ]
     },
     "execution_count": 3,
     "metadata": {},
     "output_type": "execute_result"
    }
   ],
   "source": [
    "datasets.feature_names"
   ]
  },
  {
   "cell_type": "code",
   "execution_count": 4,
   "id": "28052bc9-c6da-4f98-904d-fa835c52f38c",
   "metadata": {},
   "outputs": [
    {
     "data": {
      "text/plain": [
       "array(['setosa', 'versicolor', 'virginica'], dtype='<U10')"
      ]
     },
     "execution_count": 4,
     "metadata": {},
     "output_type": "execute_result"
    }
   ],
   "source": [
    "datasets.target_names"
   ]
  },
  {
   "cell_type": "code",
   "execution_count": 5,
   "id": "2aa9fb4f-cb38-4471-90b0-4caf06d1c2c2",
   "metadata": {},
   "outputs": [],
   "source": [
    "data = datasets.data\n",
    "label = datasets.target"
   ]
  },
  {
   "cell_type": "code",
   "execution_count": 6,
   "id": "8e8df800-2d9b-41ea-8621-f5293c410caa",
   "metadata": {},
   "outputs": [
    {
     "data": {
      "text/plain": [
       "array([0, 1, 2])"
      ]
     },
     "execution_count": 6,
     "metadata": {},
     "output_type": "execute_result"
    }
   ],
   "source": [
    "np.unique(label)"
   ]
  },
  {
   "cell_type": "code",
   "execution_count": 7,
   "id": "277c39b4-610e-49a3-ada3-0fd821ecfa50",
   "metadata": {},
   "outputs": [
    {
     "data": {
      "text/plain": [
       "150"
      ]
     },
     "execution_count": 7,
     "metadata": {},
     "output_type": "execute_result"
    }
   ],
   "source": [
    "len(data)"
   ]
  },
  {
   "cell_type": "code",
   "execution_count": 8,
   "id": "7ca8014a-2f38-4410-95e0-f36f8a68b880",
   "metadata": {},
   "outputs": [
    {
     "data": {
      "text/plain": [
       "150"
      ]
     },
     "execution_count": 8,
     "metadata": {},
     "output_type": "execute_result"
    }
   ],
   "source": [
    "len(label)"
   ]
  },
  {
   "cell_type": "code",
   "execution_count": 9,
   "id": "7ea0b694-64aa-4d12-a387-a1e26dee79db",
   "metadata": {},
   "outputs": [],
   "source": [
    "import tensorflow as tf\n",
    "from tensorflow.keras.layers import Dense\n",
    "from tensorflow.keras.models import Sequential"
   ]
  },
  {
   "cell_type": "code",
   "execution_count": 10,
   "id": "db822f7c-4645-4b66-896d-f9031dd87cb4",
   "metadata": {},
   "outputs": [
    {
     "name": "stderr",
     "output_type": "stream",
     "text": [
      "2022-01-20 18:35:59.593945: I tensorflow/core/platform/cpu_feature_guard.cc:145] This TensorFlow binary is optimized with Intel(R) MKL-DNN to use the following CPU instructions in performance critical operations:  SSE4.1 SSE4.2 AVX\n",
      "To enable them in non-MKL-DNN operations, rebuild TensorFlow with the appropriate compiler flags.\n",
      "2022-01-20 18:35:59.594783: I tensorflow/core/common_runtime/process_util.cc:115] Creating new thread pool with default inter op setting: 4. Tune using inter_op_parallelism_threads for best performance.\n"
     ]
    }
   ],
   "source": [
    "model_create = Sequential()\n",
    "model_create.add(Dense(8,input_dim =4,activation='relu'))\n",
    "model_create.add(Dense(8,input_dim =8,activation='relu'))\n",
    "model_create.add(Dense(3,input_dim =8,activation='softmax'))"
   ]
  },
  {
   "cell_type": "code",
   "execution_count": 11,
   "id": "81ece871-6a66-4e08-a891-d1f2a2cb2207",
   "metadata": {},
   "outputs": [],
   "source": [
    "model_create.compile(loss='categorical_crossentropy',optimizer='sgd',metrics=['accuracy'])"
   ]
  },
  {
   "cell_type": "code",
   "execution_count": 12,
   "id": "e18b66e4-ad7c-435f-807b-0c2247ca092b",
   "metadata": {},
   "outputs": [],
   "source": [
    "from sklearn.model_selection import train_test_split"
   ]
  },
  {
   "cell_type": "code",
   "execution_count": 13,
   "id": "5288c0be-e170-4ee7-8c58-b399107f2d85",
   "metadata": {},
   "outputs": [],
   "source": [
    "x_train,x_test,y_train,y_test = train_test_split(data,label,test_size=0.2)"
   ]
  },
  {
   "cell_type": "code",
   "execution_count": 14,
   "id": "efce642a-ce57-4833-b076-e36df40d8f63",
   "metadata": {},
   "outputs": [],
   "source": [
    "#x_train"
   ]
  },
  {
   "cell_type": "code",
   "execution_count": 15,
   "id": "88850b62-bbe2-4ec1-b0db-d91af9008ca1",
   "metadata": {},
   "outputs": [],
   "source": [
    "from tensorflow.keras.utils import to_categorical"
   ]
  },
  {
   "cell_type": "code",
   "execution_count": 16,
   "id": "33324a31-7a0a-4c3d-8972-fdc722a83cf1",
   "metadata": {},
   "outputs": [],
   "source": [
    "#y_train"
   ]
  },
  {
   "cell_type": "code",
   "execution_count": 17,
   "id": "b3fcb265-d79e-4a22-ace6-e52e1573608b",
   "metadata": {},
   "outputs": [],
   "source": [
    "label_categori=to_categorical(y_train)"
   ]
  },
  {
   "cell_type": "code",
   "execution_count": 18,
   "id": "487af490-2644-49b1-b996-3f706041e3ba",
   "metadata": {},
   "outputs": [],
   "source": [
    "#label_categori"
   ]
  },
  {
   "cell_type": "code",
   "execution_count": 19,
   "id": "30cac3a1-6960-4ca0-9114-fe84c195d97c",
   "metadata": {},
   "outputs": [
    {
     "name": "stdout",
     "output_type": "stream",
     "text": [
      "Model: \"sequential\"\n",
      "_________________________________________________________________\n",
      "Layer (type)                 Output Shape              Param #   \n",
      "=================================================================\n",
      "dense (Dense)                (None, 8)                 40        \n",
      "_________________________________________________________________\n",
      "dense_1 (Dense)              (None, 8)                 72        \n",
      "_________________________________________________________________\n",
      "dense_2 (Dense)              (None, 3)                 27        \n",
      "=================================================================\n",
      "Total params: 139\n",
      "Trainable params: 139\n",
      "Non-trainable params: 0\n",
      "_________________________________________________________________\n"
     ]
    }
   ],
   "source": [
    "model_create.summary()"
   ]
  },
  {
   "cell_type": "code",
   "execution_count": 20,
   "id": "2a8531c7-aae1-4d65-a1be-943201b5b04e",
   "metadata": {},
   "outputs": [
    {
     "name": "stdout",
     "output_type": "stream",
     "text": [
      "Train on 120 samples\n",
      "Epoch 1/30\n",
      "120/120 [==============================] - 1s 10ms/sample - loss: 1.2539 - accuracy: 0.3250\n",
      "Epoch 2/30\n",
      "120/120 [==============================] - 0s 185us/sample - loss: 0.9803 - accuracy: 0.3250\n",
      "Epoch 3/30\n",
      "120/120 [==============================] - 0s 166us/sample - loss: 0.8844 - accuracy: 0.3500\n",
      "Epoch 4/30\n",
      "120/120 [==============================] - 0s 207us/sample - loss: 0.8406 - accuracy: 0.4500\n",
      "Epoch 5/30\n",
      "120/120 [==============================] - 0s 169us/sample - loss: 0.8181 - accuracy: 0.5500\n",
      "Epoch 6/30\n",
      "120/120 [==============================] - 0s 195us/sample - loss: 0.8035 - accuracy: 0.6333\n",
      "Epoch 7/30\n",
      "120/120 [==============================] - 0s 276us/sample - loss: 0.7931 - accuracy: 0.6417\n",
      "Epoch 8/30\n",
      "120/120 [==============================] - 0s 206us/sample - loss: 0.7848 - accuracy: 0.6500\n",
      "Epoch 9/30\n",
      "120/120 [==============================] - 0s 222us/sample - loss: 0.7779 - accuracy: 0.6500\n",
      "Epoch 10/30\n",
      "120/120 [==============================] - 0s 223us/sample - loss: 0.7712 - accuracy: 0.6500\n",
      "Epoch 11/30\n",
      "120/120 [==============================] - 0s 247us/sample - loss: 0.7651 - accuracy: 0.6500\n",
      "Epoch 12/30\n",
      "120/120 [==============================] - 0s 216us/sample - loss: 0.7596 - accuracy: 0.6500\n",
      "Epoch 13/30\n",
      "120/120 [==============================] - 0s 187us/sample - loss: 0.7538 - accuracy: 0.6500\n",
      "Epoch 14/30\n",
      "120/120 [==============================] - 0s 198us/sample - loss: 0.7484 - accuracy: 0.6500\n",
      "Epoch 15/30\n",
      "120/120 [==============================] - 0s 199us/sample - loss: 0.7436 - accuracy: 0.6500\n",
      "Epoch 16/30\n",
      "120/120 [==============================] - 0s 293us/sample - loss: 0.7391 - accuracy: 0.6500\n",
      "Epoch 17/30\n",
      "120/120 [==============================] - 0s 230us/sample - loss: 0.7342 - accuracy: 0.6500\n",
      "Epoch 18/30\n",
      "120/120 [==============================] - 0s 212us/sample - loss: 0.7298 - accuracy: 0.6500\n",
      "Epoch 19/30\n",
      "120/120 [==============================] - 0s 249us/sample - loss: 0.7255 - accuracy: 0.6500\n",
      "Epoch 20/30\n",
      "120/120 [==============================] - 0s 225us/sample - loss: 0.7215 - accuracy: 0.6583\n",
      "Epoch 21/30\n",
      "120/120 [==============================] - 0s 241us/sample - loss: 0.7177 - accuracy: 0.6500\n",
      "Epoch 22/30\n",
      "120/120 [==============================] - 0s 215us/sample - loss: 0.7139 - accuracy: 0.6583\n",
      "Epoch 23/30\n",
      "120/120 [==============================] - 0s 259us/sample - loss: 0.7102 - accuracy: 0.6583\n",
      "Epoch 24/30\n",
      "120/120 [==============================] - 0s 420us/sample - loss: 0.7065 - accuracy: 0.6583\n",
      "Epoch 25/30\n",
      "120/120 [==============================] - 0s 215us/sample - loss: 0.7030 - accuracy: 0.6583\n",
      "Epoch 26/30\n",
      "120/120 [==============================] - 0s 251us/sample - loss: 0.6996 - accuracy: 0.6583\n",
      "Epoch 27/30\n",
      "120/120 [==============================] - 0s 286us/sample - loss: 0.6964 - accuracy: 0.6583\n",
      "Epoch 28/30\n",
      "120/120 [==============================] - 0s 178us/sample - loss: 0.6935 - accuracy: 0.6583\n",
      "Epoch 29/30\n",
      "120/120 [==============================] - ETA: 0s - loss: 0.5573 - accuracy: 0.71 - 0s 274us/sample - loss: 0.6905 - accuracy: 0.6583\n",
      "Epoch 30/30\n",
      "120/120 [==============================] - 0s 287us/sample - loss: 0.6881 - accuracy: 0.6583\n"
     ]
    }
   ],
   "source": [
    "history = model_create.fit(x_train,label_categori,epochs=30)"
   ]
  },
  {
   "cell_type": "code",
   "execution_count": 22,
   "id": "cc9880f9-0a54-4312-add1-758ace76714e",
   "metadata": {},
   "outputs": [
    {
     "data": {
      "image/png": "[encoded data removed]",
      "text/plain": [
       "<Figure size 432x288 with 1 Axes>"
      ]
     },
     "metadata": {
      "needs_background": "light"
     },
     "output_type": "display_data"
    }
   ],
   "source": [
    "plt.plot(history.history['loss'])\n",
    "plt.show()"
   ]
  },
  {
   "cell_type": "code",
   "execution_count": 23,
   "id": "169921ad-8ee0-484b-bfca-9372623a9b30",
   "metadata": {},
   "outputs": [
    {
     "data": {
      "image/png": "[encoded data removed]",
      "text/plain": [
       "<Figure size 432x288 with 1 Axes>"
      ]
     },
     "metadata": {
      "needs_background": "light"
     },
     "output_type": "display_data"
    }
   ],
   "source": [
    "plt.plot(history.history['accuracy'])\n",
    "plt.show()"
   ]
  },
  {
   "cell_type": "code",
   "execution_count": 24,
   "id": "9568a8d9-bc4c-4fff-8d05-301bac2c4bfb",
   "metadata": {},
   "outputs": [],
   "source": [
    "prediction = model_create.predict(x_test)"
   ]
  },
  {
   "cell_type": "code",
   "execution_count": 26,
   "id": "7f6c19ac-054e-44a2-b7b7-4b1d0a73b7bd",
   "metadata": {},
   "outputs": [
    {
     "name": "stdout",
     "output_type": "stream",
     "text": [
      "predicted:  [0 1 1 1 0 1 1 0 1 1 1 0 0 1 1 1 0 1 1 1 1 0 0 1 1 1 0 0 0 1]\n",
      "\n",
      "Actiual:  [0 1 2 2 0 1 2 0 2 2 2 0 0 1 1 1 0 2 1 1 1 0 0 1 2 2 0 0 0 2]\n"
     ]
    }
   ],
   "source": [
    "print(\"predicted: \",np.argmax(prediction, axis=1))\n",
    "print()\n",
    "print(\"Actiual: \",y_test)"
   ]
  },
  {
   "cell_type": "code",
   "execution_count": 27,
   "id": "7c26d64b-042e-4c88-b587-ca5dc878a11a",
   "metadata": {},
   "outputs": [
    {
     "data": {
      "text/plain": [
       "array([[0.92842853, 0.01597117, 0.05560023],\n",
       "       [0.25112507, 0.3892471 , 0.35962787],\n",
       "       [0.25112507, 0.3892471 , 0.35962787],\n",
       "       [0.25112507, 0.3892471 , 0.35962787],\n",
       "       [0.96852803, 0.00558739, 0.0258847 ],\n",
       "       [0.26478577, 0.3909444 , 0.34426987],\n",
       "       [0.25112507, 0.3892471 , 0.35962787],\n",
       "       [0.91620904, 0.02052943, 0.06326158],\n",
       "       [0.25112507, 0.3892471 , 0.35962787],\n",
       "       [0.25112507, 0.3892471 , 0.35962787],\n",
       "       [0.25112507, 0.3892471 , 0.35962787],\n",
       "       [0.9483798 , 0.01032466, 0.04129554],\n",
       "       [0.88398147, 0.03033404, 0.0856845 ],\n",
       "       [0.25112507, 0.3892471 , 0.35962787],\n",
       "       [0.2618757 , 0.39192054, 0.3462037 ],\n",
       "       [0.25112507, 0.3892471 , 0.35962787],\n",
       "       [0.9555871 , 0.00851326, 0.03589959],\n",
       "       [0.25112507, 0.3892471 , 0.35962787],\n",
       "       [0.27798077, 0.3862141 , 0.3358051 ],\n",
       "       [0.2563072 , 0.3940452 , 0.3496476 ],\n",
       "       [0.2577861 , 0.3905828 , 0.35163113],\n",
       "       [0.8336347 , 0.04610947, 0.12025592],\n",
       "       [0.9108176 , 0.0232977 , 0.06588477],\n",
       "       [0.32323706, 0.3587552 , 0.31800765],\n",
       "       [0.25112507, 0.3892471 , 0.35962787],\n",
       "       [0.25112507, 0.3892471 , 0.35962787],\n",
       "       [0.9196463 , 0.01913438, 0.06121941],\n",
       "       [0.89718664, 0.02693008, 0.07588326],\n",
       "       [0.92334735, 0.01731576, 0.05933677],\n",
       "       [0.25263515, 0.38980025, 0.35756454]], dtype=float32)"
      ]
     },
     "execution_count": 27,
     "metadata": {},
     "output_type": "execute_result"
    }
   ],
   "source": [
    "prediction"
   ]
  },
  {
   "cell_type": "code",
   "execution_count": null,
   "id": "248a3182-f240-4913-9e9b-7b24da6ce54f",
   "metadata": {},
   "outputs": [],
   "source": []
  }
 ],
 "metadata": {
  "kernelspec": {
   "display_name": "Python 3 (ipykernel)",
   "language": "python",
   "name": "python3"
  },
  "language_info": {
   "codemirror_mode": {
    "name": "ipython",
    "version": 3
   },
   "file_extension": ".py",
   "mimetype": "text/x-python",
   "name": "python",
   "nbconvert_exporter": "python",
   "pygments_lexer": "ipython3",
   "version": "3.7.11"
  }
 },
 "nbformat": 4,
 "nbformat_minor": 5
}
